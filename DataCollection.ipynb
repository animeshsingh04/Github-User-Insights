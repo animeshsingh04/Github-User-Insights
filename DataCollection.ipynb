{
 "cells": [
  {
   "cell_type": "code",
   "execution_count": 1,
   "metadata": {},
   "outputs": [],
   "source": [
    "import json\n",
    "import requests\n",
    "import numpy as np\n",
    "import pandas as pd\n",
    "import requests"
   ]
  },
  {
   "cell_type": "code",
   "execution_count": 2,
   "metadata": {},
   "outputs": [],
   "source": [
    "credentials = json.loads(open('credentials.json').read())\n",
    "token =  credentials['token']"
   ]
  },
  {
   "cell_type": "code",
   "execution_count": 3,
   "metadata": {},
   "outputs": [],
   "source": [
    "headers = {'Authorization': 'token ' + token}\n",
    "data = requests.get('https://api.github.com/user', headers=headers)\n",
    "data = data.json()"
   ]
  },
  {
   "cell_type": "code",
   "execution_count": 4,
   "metadata": {},
   "outputs": [],
   "source": [
    "url = data['repos_url']"
   ]
  },
  {
   "cell_type": "code",
   "execution_count": 5,
   "metadata": {},
   "outputs": [
    {
     "name": "stdout",
     "output_type": "stream",
     "text": [
      "Total repositories fetched: 15\n"
     ]
    }
   ],
   "source": [
    "url = data['repos_url']\n",
    "page_no = 1\n",
    "repos_data = []\n",
    "while (True):\n",
    "    response = requests.get(url, headers=headers)\n",
    "    response = response.json()\n",
    "    repos_data = repos_data + response\n",
    "    repos_fetched = len(response)\n",
    "    print(\"Total repositories fetched: {}\".format(repos_fetched))\n",
    "    if (repos_fetched == 30):\n",
    "        page_no = page_no + 1\n",
    "        url = data['repos_url'].encode(\"UTF-8\") + '?page=' + str(page_no)\n",
    "    else:\n",
    "        break"
   ]
  },
  {
   "cell_type": "code",
   "execution_count": 6,
   "metadata": {},
   "outputs": [],
   "source": [
    "#repos_data[5]"
   ]
  },
  {
   "cell_type": "code",
   "execution_count": 7,
   "metadata": {},
   "outputs": [],
   "source": [
    "repos_information = []\n",
    "for repo in repos_data:\n",
    "    data = []\n",
    "    data.append(repo['id'])\n",
    "    data.append(repo['name'])\n",
    "    data.append(repo['description'])\n",
    "    data.append(repo['created_at'])\n",
    "    data.append(repo['updated_at'])\n",
    "    data.append(repo['owner']['login'])\n",
    "    data.append(repo['watchers_count'])\n",
    "    data.append(repo['url'])\n",
    "    data.append(repo['commits_url'].split(\"{\")[0])\n",
    "    data.append(repo['languages_url'])\n",
    "    repos_information.append(data)"
   ]
  },
  {
   "cell_type": "code",
   "execution_count": 16,
   "metadata": {},
   "outputs": [],
   "source": [
    "\n",
    "repo_df_column = ['Id','Name','Description','Created on','Updated on','Owner','Watchers count', \n",
    "                    'Url','Commits url','Languages url']"
   ]
  },
  {
   "cell_type": "code",
   "execution_count": 18,
   "metadata": {},
   "outputs": [],
   "source": [
    "repos_df = pd.DataFrame(repos_information,columns=repo_df_column)"
   ]
  },
  {
   "cell_type": "code",
   "execution_count": 10,
   "metadata": {},
   "outputs": [],
   "source": [
    "for i in range(len(repos_df)):\n",
    "    language_url = repos_df.loc[i,'Languages url']\n",
    "    language_response = requests.get(language_url, headers=headers)\n",
    "    language_response =  language_response.json()\n",
    "    if language_response != {}:\n",
    "        language=[]\n",
    "        for key,value in language_response.items():\n",
    "            language.append(key)\n",
    "        language = ', '.join(language)\n",
    "        repos_df.loc[i,'Language'] = language\n",
    "    else:\n",
    "        repos_df.loc[i,'Language'] = \"\""
   ]
  },
  {
   "cell_type": "code",
   "execution_count": 11,
   "metadata": {},
   "outputs": [],
   "source": [
    "repos_df.to_csv('repos_info.csv', index = False)"
   ]
  },
  {
   "cell_type": "code",
   "execution_count": 14,
   "metadata": {},
   "outputs": [],
   "source": [
    "commit_information= []\n",
    "for index, row in repos_df.iterrows():\n",
    "    commit_url = row['Commits url']\n",
    "    commit_response = requests.get(commit_url,headers=headers)\n",
    "    commit_response = commit_response.json()\n",
    "    for commit in commit_response:\n",
    "        commit_data = []\n",
    "        commit_data.append(repos_df.loc[i,\"Id\"])\n",
    "        commit_data.append(commit['sha'])\n",
    "        commit_data.append(commit['commit']['message'])\n",
    "        commit_data.append(commit['commit']['author']['date'])\n",
    "        commit_information.append(commit_data)\n",
    "#commit_information"
   ]
  },
  {
   "cell_type": "code",
   "execution_count": 19,
   "metadata": {},
   "outputs": [],
   "source": [
    "commit_df_column = ['Id','Sha','Commit Message','Commited on']"
   ]
  },
  {
   "cell_type": "code",
   "execution_count": 20,
   "metadata": {},
   "outputs": [],
   "source": [
    "commit_df = pd.DataFrame(commit_information,columns=commit_df_column)"
   ]
  },
  {
   "cell_type": "code",
   "execution_count": 21,
   "metadata": {},
   "outputs": [],
   "source": [
    "commit_df.to_csv('commit_info.csv',index = False)"
   ]
  },
  {
   "cell_type": "code",
   "execution_count": null,
   "metadata": {},
   "outputs": [],
   "source": []
  }
 ],
 "metadata": {
  "kernelspec": {
   "display_name": "Python 3",
   "language": "python",
   "name": "python3"
  },
  "language_info": {
   "codemirror_mode": {
    "name": "ipython",
    "version": 3
   },
   "file_extension": ".py",
   "mimetype": "text/x-python",
   "name": "python",
   "nbconvert_exporter": "python",
   "pygments_lexer": "ipython3",
   "version": "3.6.4"
  }
 },
 "nbformat": 4,
 "nbformat_minor": 2
}
