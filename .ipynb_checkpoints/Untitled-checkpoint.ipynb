{
 "cells": [
  {
   "cell_type": "code",
   "execution_count": 2,
   "metadata": {},
   "outputs": [],
   "source": [
    "import json\n",
    "import requests\n",
    "import numpy as np\n",
    "import pandas as pd\n",
    "import requests"
   ]
  },
  {
   "cell_type": "code",
   "execution_count": 3,
   "metadata": {},
   "outputs": [],
   "source": [
    "credentials = json.loads(open('credentials.json').read())\n",
    "token =  credentials['token']"
   ]
  },
  {
   "cell_type": "code",
   "execution_count": 4,
   "metadata": {},
   "outputs": [],
   "source": [
    "headers = {'Authorization': 'token ' + token}\n",
    "data = requests.get('https://api.github.com/user', headers=headers)\n",
    "data = data.json()"
   ]
  },
  {
   "cell_type": "code",
   "execution_count": 5,
   "metadata": {},
   "outputs": [
    {
     "name": "stdout",
     "output_type": "stream",
     "text": [
      "https://api.github.com/users/animeshsingh04/repos\n"
     ]
    }
   ],
   "source": [
    "url = data['repos_url']\n",
    "print(url)"
   ]
  },
  {
   "cell_type": "code",
   "execution_count": 12,
   "metadata": {},
   "outputs": [
    {
     "name": "stdout",
     "output_type": "stream",
     "text": [
      "Total repositories fetched: 15\n"
     ]
    }
   ],
   "source": [
    "url = data['repos_url']\n",
    "page_no = 1\n",
    "repos_data = []\n",
    "while (True):\n",
    "    response = requests.get(url, headers=headers)\n",
    "    response = response.json()\n",
    "    repos_data = repos_data + response\n",
    "    repos_fetched = len(response)\n",
    "    print(\"Total repositories fetched: {}\".format(repos_fetched))\n",
    "    if (repos_fetched == 30):\n",
    "        page_no = page_no + 1\n",
    "        url = data['repos_url'].encode(\"UTF-8\") + '?page=' + str(page_no)\n",
    "    else:\n",
    "        break"
   ]
  },
  {
   "cell_type": "code",
   "execution_count": 42,
   "metadata": {},
   "outputs": [],
   "source": [
    "#repos_data[5]"
   ]
  },
  {
   "cell_type": "code",
   "execution_count": 35,
   "metadata": {},
   "outputs": [],
   "source": [
    "repos_information = []\n",
    "for repo in repos_data:\n",
    "    data = []\n",
    "    data.append(repo['id'])\n",
    "    data.append(repo['name'])\n",
    "    data.append(repo['description'])\n",
    "    data.append(repo['created_at'])\n",
    "    data.append(repo['updated_at'])\n",
    "    data.append(repo['owner']['login'])\n",
    "    data.append(repo['watchers_count'])\n",
    "    data.append(repo['url'])\n",
    "    data.append(repo['commits_url'].split(\"{\")[0])\n",
    "    data.append(repo['languages_url'])\n",
    "    repos_information.append(data)"
   ]
  },
  {
   "cell_type": "code",
   "execution_count": 37,
   "metadata": {},
   "outputs": [],
   "source": [
    "dataframe_column = ['Id','Name','Description','Created on','Updated on','Owner','Watchers count', \n",
    "                    'Url','Commits url','Languages url']"
   ]
  },
  {
   "cell_type": "code",
   "execution_count": 49,
   "metadata": {},
   "outputs": [
    {
     "data": {
      "text/plain": [
       "(15, 10)"
      ]
     },
     "execution_count": 49,
     "metadata": {},
     "output_type": "execute_result"
    }
   ],
   "source": [
    "repos_df = pd.DataFrame(repos_information,columns=dataframe_column)"
   ]
  },
  {
   "cell_type": "code",
   "execution_count": 50,
   "metadata": {},
   "outputs": [
    {
     "name": "stdout",
     "output_type": "stream",
     "text": [
      "{'JavaScript': 9510143, 'HTML': 1360} 0\n",
      "{'JavaScript': 9510143, 'HTML': 1391} 1\n",
      "{'TypeScript': 9822, 'HTML': 2219, 'JavaScript': 1834, 'CSS': 283} 2\n",
      "{'CSS': 3569, 'HTML': 2981, 'JavaScript': 965} 3\n",
      "{'CSS': 3764, 'HTML': 3072, 'JavaScript': 988} 4\n",
      "{'Jupyter Notebook': 357157, 'Python': 9388} 5\n",
      "{'JavaScript': 6203, 'CSS': 3351, 'HTML': 2270} 6\n",
      "{'Jupyter Notebook': 224490} 7\n",
      "{'JavaScript': 12625, 'HTML': 6185, 'CSS': 1778} 8\n",
      "{} 9\n",
      "{'HTML': 1470} 10\n",
      "{'Jupyter Notebook': 572859} 11\n",
      "{'CSS': 20698, 'HTML': 20646, 'JavaScript': 704} 12\n",
      "{'Java': 6170, 'HTML': 3532, 'Scala': 1268, 'JavaScript': 1227, 'CSS': 701} 13\n",
      "{'Jupyter Notebook': 169087} 14\n"
     ]
    }
   ],
   "source": [
    "for i in range(len(repos_df)):\n",
    "    langauage_url = repos_df.loc[i,'Languages url']\n",
    "    language_response = requests.get(langauage_url, headers=headers)\n",
    "    language_response =  language_response.json()\n",
    "    print(language_response)"
   ]
  },
  {
   "cell_type": "code",
   "execution_count": null,
   "metadata": {},
   "outputs": [],
   "source": []
  }
 ],
 "metadata": {
  "kernelspec": {
   "display_name": "Python 3",
   "language": "python",
   "name": "python3"
  },
  "language_info": {
   "codemirror_mode": {
    "name": "ipython",
    "version": 3
   },
   "file_extension": ".py",
   "mimetype": "text/x-python",
   "name": "python",
   "nbconvert_exporter": "python",
   "pygments_lexer": "ipython3",
   "version": "3.6.4"
  }
 },
 "nbformat": 4,
 "nbformat_minor": 2
}
