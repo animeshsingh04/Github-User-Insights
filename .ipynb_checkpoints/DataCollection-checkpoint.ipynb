{
 "cells": [
  {
   "cell_type": "markdown",
   "metadata": {},
   "source": [
    "# Data Collection of GitHub "
   ]
  },
  {
   "cell_type": "markdown",
   "metadata": {},
   "source": [
    "In this notebook, I'll use the <strong>GitHub API</strong> using <strong>GitHub OAuth Authentication</strong> to extract various information from my user profile such as repositories, commits and languages used and more. I will also save this data to <strong>comma seprated Values </strong> files so that I can draw insights such as Number of Commits per Repository"
   ]
  },
  {
   "cell_type": "markdown",
   "metadata": {},
   "source": [
    "# Import Libraries"
   ]
  },
  {
   "cell_type": "code",
   "execution_count": 1,
   "metadata": {},
   "outputs": [],
   "source": [
    "import json\n",
    "import requests\n",
    "import pandas as pd"
   ]
  },
  {
   "cell_type": "markdown",
   "metadata": {},
   "source": [
    "I will fetch the required credentials like username and token from the json file and create an authentication variable.<br></br>\n",
    "<strong>Note : </strong>Authentication using username and password would be deprecated by <strong>GitHub</strong>, so using OAuth authentication"
   ]
  },
  {
   "cell_type": "code",
   "execution_count": 26,
   "metadata": {},
   "outputs": [],
   "source": [
    "user_credentials = json.loads(open('credentials.json').read())\n",
    "token =  user_credentials['token']\n",
    "headers = {'Authorization': 'token ' + token}"
   ]
  },
  {
   "cell_type": "markdown",
   "metadata": {},
   "source": [
    "# User Information"
   ]
  },
  {
   "cell_type": "markdown",
   "metadata": {},
   "source": [
    "I will fetch the user data such as Name of Repository, UserName, commits, Repositpry Url and more"
   ]
  },
  {
   "cell_type": "code",
   "execution_count": 28,
   "metadata": {},
   "outputs": [
    {
     "data": {
      "text/plain": [
       "{'login': 'animeshsingh04',\n",
       " 'id': 32563403,\n",
       " 'node_id': 'MDQ6VXNlcjMyNTYzNDAz',\n",
       " 'avatar_url': 'https://avatars3.githubusercontent.com/u/32563403?v=4',\n",
       " 'gravatar_id': '',\n",
       " 'url': 'https://api.github.com/users/animeshsingh04',\n",
       " 'html_url': 'https://github.com/animeshsingh04',\n",
       " 'followers_url': 'https://api.github.com/users/animeshsingh04/followers',\n",
       " 'following_url': 'https://api.github.com/users/animeshsingh04/following{/other_user}',\n",
       " 'gists_url': 'https://api.github.com/users/animeshsingh04/gists{/gist_id}',\n",
       " 'starred_url': 'https://api.github.com/users/animeshsingh04/starred{/owner}{/repo}',\n",
       " 'subscriptions_url': 'https://api.github.com/users/animeshsingh04/subscriptions',\n",
       " 'organizations_url': 'https://api.github.com/users/animeshsingh04/orgs',\n",
       " 'repos_url': 'https://api.github.com/users/animeshsingh04/repos',\n",
       " 'events_url': 'https://api.github.com/users/animeshsingh04/events{/privacy}',\n",
       " 'received_events_url': 'https://api.github.com/users/animeshsingh04/received_events',\n",
       " 'type': 'User',\n",
       " 'site_admin': False,\n",
       " 'name': 'Animesh Singh',\n",
       " 'company': None,\n",
       " 'blog': '',\n",
       " 'location': 'Bangalore',\n",
       " 'email': '04animeshsing@gmail.com',\n",
       " 'hireable': True,\n",
       " 'bio': 'Working with Python, Machine Learning, Computer Vision and WebApi to explore the field of Data Science Machine Learning and Microservices Framework',\n",
       " 'twitter_username': None,\n",
       " 'public_repos': 15,\n",
       " 'public_gists': 1,\n",
       " 'followers': 0,\n",
       " 'following': 0,\n",
       " 'created_at': '2017-10-06T06:34:26Z',\n",
       " 'updated_at': '2020-07-16T10:31:06Z'}"
      ]
     },
     "execution_count": 28,
     "metadata": {},
     "output_type": "execute_result"
    }
   ],
   "source": [
    "response = requests.get('https://api.github.com/user', headers=headers)\n",
    "user_data = response.json()\n",
    "user_data"
   ]
  },
  {
   "cell_type": "markdown",
   "metadata": {},
   "source": [
    "# Repository Information"
   ]
  },
  {
   "cell_type": "markdown",
   "metadata": {},
   "source": [
    "I will fetch repositories for user"
   ]
  },
  {
   "cell_type": "code",
   "execution_count": 29,
   "metadata": {},
   "outputs": [],
   "source": [
    "repos_url = user_data['repos_url']"
   ]
  },
  {
   "cell_type": "code",
   "execution_count": 31,
   "metadata": {},
   "outputs": [
    {
     "name": "stdout",
     "output_type": "stream",
     "text": [
      "Total repositories fetched: 15\n"
     ]
    }
   ],
   "source": [
    "page_no = 1\n",
    "repository_data = []\n",
    "while (True):\n",
    "    repos_response = requests.get(repos_url, headers=headers)\n",
    "    repos_response = repos_response.json()\n",
    "    repository_data = repository_data + repos_response\n",
    "    repos_fetched = len(repos_response)\n",
    "    print(\"Total repositories fetched: {}\".format(repos_fetched))\n",
    "    if (repos_fetched == 30):\n",
    "        page_no = page_no + 1\n",
    "        url = user_data['repos_url'].encode(\"UTF-8\") + '?page=' + str(page_no)\n",
    "    else:\n",
    "        break"
   ]
  },
  {
   "cell_type": "markdown",
   "metadata": {},
   "source": [
    "I have total 15 Repositries till date"
   ]
  },
  {
   "cell_type": "markdown",
   "metadata": {},
   "source": [
    "I will take one random repository and see what data I can keep"
   ]
  },
  {
   "cell_type": "code",
   "execution_count": 32,
   "metadata": {},
   "outputs": [
    {
     "data": {
      "text/plain": [
       "{'id': 272244192,\n",
       " 'node_id': 'MDEwOlJlcG9zaXRvcnkyNzIyNDQxOTI=',\n",
       " 'name': 'AnnotationTool-Yolo',\n",
       " 'full_name': 'animeshsingh04/AnnotationTool-Yolo',\n",
       " 'private': False,\n",
       " 'owner': {'login': 'animeshsingh04',\n",
       "  'id': 32563403,\n",
       "  'node_id': 'MDQ6VXNlcjMyNTYzNDAz',\n",
       "  'avatar_url': 'https://avatars3.githubusercontent.com/u/32563403?v=4',\n",
       "  'gravatar_id': '',\n",
       "  'url': 'https://api.github.com/users/animeshsingh04',\n",
       "  'html_url': 'https://github.com/animeshsingh04',\n",
       "  'followers_url': 'https://api.github.com/users/animeshsingh04/followers',\n",
       "  'following_url': 'https://api.github.com/users/animeshsingh04/following{/other_user}',\n",
       "  'gists_url': 'https://api.github.com/users/animeshsingh04/gists{/gist_id}',\n",
       "  'starred_url': 'https://api.github.com/users/animeshsingh04/starred{/owner}{/repo}',\n",
       "  'subscriptions_url': 'https://api.github.com/users/animeshsingh04/subscriptions',\n",
       "  'organizations_url': 'https://api.github.com/users/animeshsingh04/orgs',\n",
       "  'repos_url': 'https://api.github.com/users/animeshsingh04/repos',\n",
       "  'events_url': 'https://api.github.com/users/animeshsingh04/events{/privacy}',\n",
       "  'received_events_url': 'https://api.github.com/users/animeshsingh04/received_events',\n",
       "  'type': 'User',\n",
       "  'site_admin': False},\n",
       " 'html_url': 'https://github.com/animeshsingh04/AnnotationTool-Yolo',\n",
       " 'description': 'This contains array of python notebooks which describes how we can create Annotation file for Yolo Object Detection  without any Tool',\n",
       " 'fork': False,\n",
       " 'url': 'https://api.github.com/repos/animeshsingh04/AnnotationTool-Yolo',\n",
       " 'forks_url': 'https://api.github.com/repos/animeshsingh04/AnnotationTool-Yolo/forks',\n",
       " 'keys_url': 'https://api.github.com/repos/animeshsingh04/AnnotationTool-Yolo/keys{/key_id}',\n",
       " 'collaborators_url': 'https://api.github.com/repos/animeshsingh04/AnnotationTool-Yolo/collaborators{/collaborator}',\n",
       " 'teams_url': 'https://api.github.com/repos/animeshsingh04/AnnotationTool-Yolo/teams',\n",
       " 'hooks_url': 'https://api.github.com/repos/animeshsingh04/AnnotationTool-Yolo/hooks',\n",
       " 'issue_events_url': 'https://api.github.com/repos/animeshsingh04/AnnotationTool-Yolo/issues/events{/number}',\n",
       " 'events_url': 'https://api.github.com/repos/animeshsingh04/AnnotationTool-Yolo/events',\n",
       " 'assignees_url': 'https://api.github.com/repos/animeshsingh04/AnnotationTool-Yolo/assignees{/user}',\n",
       " 'branches_url': 'https://api.github.com/repos/animeshsingh04/AnnotationTool-Yolo/branches{/branch}',\n",
       " 'tags_url': 'https://api.github.com/repos/animeshsingh04/AnnotationTool-Yolo/tags',\n",
       " 'blobs_url': 'https://api.github.com/repos/animeshsingh04/AnnotationTool-Yolo/git/blobs{/sha}',\n",
       " 'git_tags_url': 'https://api.github.com/repos/animeshsingh04/AnnotationTool-Yolo/git/tags{/sha}',\n",
       " 'git_refs_url': 'https://api.github.com/repos/animeshsingh04/AnnotationTool-Yolo/git/refs{/sha}',\n",
       " 'trees_url': 'https://api.github.com/repos/animeshsingh04/AnnotationTool-Yolo/git/trees{/sha}',\n",
       " 'statuses_url': 'https://api.github.com/repos/animeshsingh04/AnnotationTool-Yolo/statuses/{sha}',\n",
       " 'languages_url': 'https://api.github.com/repos/animeshsingh04/AnnotationTool-Yolo/languages',\n",
       " 'stargazers_url': 'https://api.github.com/repos/animeshsingh04/AnnotationTool-Yolo/stargazers',\n",
       " 'contributors_url': 'https://api.github.com/repos/animeshsingh04/AnnotationTool-Yolo/contributors',\n",
       " 'subscribers_url': 'https://api.github.com/repos/animeshsingh04/AnnotationTool-Yolo/subscribers',\n",
       " 'subscription_url': 'https://api.github.com/repos/animeshsingh04/AnnotationTool-Yolo/subscription',\n",
       " 'commits_url': 'https://api.github.com/repos/animeshsingh04/AnnotationTool-Yolo/commits{/sha}',\n",
       " 'git_commits_url': 'https://api.github.com/repos/animeshsingh04/AnnotationTool-Yolo/git/commits{/sha}',\n",
       " 'comments_url': 'https://api.github.com/repos/animeshsingh04/AnnotationTool-Yolo/comments{/number}',\n",
       " 'issue_comment_url': 'https://api.github.com/repos/animeshsingh04/AnnotationTool-Yolo/issues/comments{/number}',\n",
       " 'contents_url': 'https://api.github.com/repos/animeshsingh04/AnnotationTool-Yolo/contents/{+path}',\n",
       " 'compare_url': 'https://api.github.com/repos/animeshsingh04/AnnotationTool-Yolo/compare/{base}...{head}',\n",
       " 'merges_url': 'https://api.github.com/repos/animeshsingh04/AnnotationTool-Yolo/merges',\n",
       " 'archive_url': 'https://api.github.com/repos/animeshsingh04/AnnotationTool-Yolo/{archive_format}{/ref}',\n",
       " 'downloads_url': 'https://api.github.com/repos/animeshsingh04/AnnotationTool-Yolo/downloads',\n",
       " 'issues_url': 'https://api.github.com/repos/animeshsingh04/AnnotationTool-Yolo/issues{/number}',\n",
       " 'pulls_url': 'https://api.github.com/repos/animeshsingh04/AnnotationTool-Yolo/pulls{/number}',\n",
       " 'milestones_url': 'https://api.github.com/repos/animeshsingh04/AnnotationTool-Yolo/milestones{/number}',\n",
       " 'notifications_url': 'https://api.github.com/repos/animeshsingh04/AnnotationTool-Yolo/notifications{?since,all,participating}',\n",
       " 'labels_url': 'https://api.github.com/repos/animeshsingh04/AnnotationTool-Yolo/labels{/name}',\n",
       " 'releases_url': 'https://api.github.com/repos/animeshsingh04/AnnotationTool-Yolo/releases{/id}',\n",
       " 'deployments_url': 'https://api.github.com/repos/animeshsingh04/AnnotationTool-Yolo/deployments',\n",
       " 'created_at': '2020-06-14T16:49:11Z',\n",
       " 'updated_at': '2020-06-30T13:05:14Z',\n",
       " 'pushed_at': '2020-06-30T13:05:12Z',\n",
       " 'git_url': 'git://github.com/animeshsingh04/AnnotationTool-Yolo.git',\n",
       " 'ssh_url': 'git@github.com:animeshsingh04/AnnotationTool-Yolo.git',\n",
       " 'clone_url': 'https://github.com/animeshsingh04/AnnotationTool-Yolo.git',\n",
       " 'svn_url': 'https://github.com/animeshsingh04/AnnotationTool-Yolo',\n",
       " 'homepage': '',\n",
       " 'size': 202,\n",
       " 'stargazers_count': 1,\n",
       " 'watchers_count': 1,\n",
       " 'language': 'Jupyter Notebook',\n",
       " 'has_issues': True,\n",
       " 'has_projects': True,\n",
       " 'has_downloads': True,\n",
       " 'has_wiki': True,\n",
       " 'has_pages': False,\n",
       " 'forks_count': 0,\n",
       " 'mirror_url': None,\n",
       " 'archived': False,\n",
       " 'disabled': False,\n",
       " 'open_issues_count': 0,\n",
       " 'license': None,\n",
       " 'forks': 0,\n",
       " 'open_issues': 0,\n",
       " 'watchers': 1,\n",
       " 'default_branch': 'master',\n",
       " 'permissions': {'admin': True, 'push': True, 'pull': True}}"
      ]
     },
     "execution_count": 32,
     "metadata": {},
     "output_type": "execute_result"
    }
   ],
   "source": [
    "repository_data[5]"
   ]
  },
  {
   "cell_type": "markdown",
   "metadata": {},
   "source": [
    "There are number of things that we can keep track, like following -"
   ]
  },
  {
   "cell_type": "markdown",
   "metadata": {},
   "source": [
    "<ol>\n",
    "  <li>Id : Unique id of Each repository</li>\n",
    "  <li>Name : Name of the Repository </li>\n",
    "  <li>Description : Description about the Repository</li>\n",
    "  <li>Created_at : Date and time when Repository was created</li>\n",
    "  <li>updated_at : Date and time when Repository was updated last time</li>\n",
    "  <li>owner : UserName of the owner of Repository</li>\n",
    "  <li>watchers_count : Number of watch on Respository</li>\n",
    "  <li>url : Url of Repository</li>\n",
    "  <li>commits_url : Url of each commit in the Repository</li>\n",
    "  <li>languages_url : Url of Languages which used in Repository</li>\n",
    "</ol>"
   ]
  },
  {
   "cell_type": "code",
   "execution_count": 34,
   "metadata": {},
   "outputs": [],
   "source": [
    "repos_information = []\n",
    "for repo in repository_data:\n",
    "    data = []\n",
    "    data.append(repo['id'])\n",
    "    data.append(repo['name'])\n",
    "    data.append(repo['description'])\n",
    "    data.append(repo['created_at'])\n",
    "    data.append(repo['updated_at'])\n",
    "    data.append(repo['owner']['login'])\n",
    "    data.append(repo['watchers_count'])\n",
    "    data.append(repo['url'])\n",
    "    data.append(repo['commits_url'].split(\"{\")[0])\n",
    "    data.append(repo['languages_url'])\n",
    "    repos_information.append(data)"
   ]
  },
  {
   "cell_type": "code",
   "execution_count": 36,
   "metadata": {},
   "outputs": [],
   "source": [
    "repo_df_column = ['Id','Name','Description','Created on','Updated on','Owner','Watchers count', \n",
    "                    'Url','Commits url','Languages url']"
   ]
  },
  {
   "cell_type": "code",
   "execution_count": 37,
   "metadata": {},
   "outputs": [
    {
     "data": {
      "text/html": [
       "<div>\n",
       "<style scoped>\n",
       "    .dataframe tbody tr th:only-of-type {\n",
       "        vertical-align: middle;\n",
       "    }\n",
       "\n",
       "    .dataframe tbody tr th {\n",
       "        vertical-align: top;\n",
       "    }\n",
       "\n",
       "    .dataframe thead th {\n",
       "        text-align: right;\n",
       "    }\n",
       "</style>\n",
       "<table border=\"1\" class=\"dataframe\">\n",
       "  <thead>\n",
       "    <tr style=\"text-align: right;\">\n",
       "      <th></th>\n",
       "      <th>Id</th>\n",
       "      <th>Name</th>\n",
       "      <th>Description</th>\n",
       "      <th>Created on</th>\n",
       "      <th>Updated on</th>\n",
       "      <th>Owner</th>\n",
       "      <th>Watchers count</th>\n",
       "      <th>Url</th>\n",
       "      <th>Commits url</th>\n",
       "      <th>Languages url</th>\n",
       "    </tr>\n",
       "  </thead>\n",
       "  <tbody>\n",
       "    <tr>\n",
       "      <th>0</th>\n",
       "      <td>234071231</td>\n",
       "      <td>Angular</td>\n",
       "      <td>None</td>\n",
       "      <td>2020-01-15T12:01:40Z</td>\n",
       "      <td>2020-06-30T15:56:42Z</td>\n",
       "      <td>animeshsingh04</td>\n",
       "      <td>1</td>\n",
       "      <td>https://api.github.com/repos/animeshsingh04/An...</td>\n",
       "      <td>https://api.github.com/repos/animeshsingh04/An...</td>\n",
       "      <td>https://api.github.com/repos/animeshsingh04/An...</td>\n",
       "    </tr>\n",
       "    <tr>\n",
       "      <th>1</th>\n",
       "      <td>239988172</td>\n",
       "      <td>AngularProject-to-showApilog-from-file</td>\n",
       "      <td>None</td>\n",
       "      <td>2020-02-12T10:43:17Z</td>\n",
       "      <td>2020-06-30T15:56:39Z</td>\n",
       "      <td>animeshsingh04</td>\n",
       "      <td>1</td>\n",
       "      <td>https://api.github.com/repos/animeshsingh04/An...</td>\n",
       "      <td>https://api.github.com/repos/animeshsingh04/An...</td>\n",
       "      <td>https://api.github.com/repos/animeshsingh04/An...</td>\n",
       "    </tr>\n",
       "    <tr>\n",
       "      <th>2</th>\n",
       "      <td>233563609</td>\n",
       "      <td>AngularProject-to-showApilog-from-logfile</td>\n",
       "      <td>This Repo showcase API log using Angular 6 fro...</td>\n",
       "      <td>2020-01-13T09:55:31Z</td>\n",
       "      <td>2020-06-30T15:56:26Z</td>\n",
       "      <td>animeshsingh04</td>\n",
       "      <td>1</td>\n",
       "      <td>https://api.github.com/repos/animeshsingh04/An...</td>\n",
       "      <td>https://api.github.com/repos/animeshsingh04/An...</td>\n",
       "      <td>https://api.github.com/repos/animeshsingh04/An...</td>\n",
       "    </tr>\n",
       "    <tr>\n",
       "      <th>3</th>\n",
       "      <td>233396617</td>\n",
       "      <td>Animation-using-css3</td>\n",
       "      <td>Simple animation using pure css3 and html</td>\n",
       "      <td>2020-01-12T13:26:55Z</td>\n",
       "      <td>2020-06-30T15:56:45Z</td>\n",
       "      <td>animeshsingh04</td>\n",
       "      <td>1</td>\n",
       "      <td>https://api.github.com/repos/animeshsingh04/An...</td>\n",
       "      <td>https://api.github.com/repos/animeshsingh04/An...</td>\n",
       "      <td>https://api.github.com/repos/animeshsingh04/An...</td>\n",
       "    </tr>\n",
       "    <tr>\n",
       "      <th>4</th>\n",
       "      <td>233679163</td>\n",
       "      <td>animeshsingh04.github.io</td>\n",
       "      <td>None</td>\n",
       "      <td>2020-01-13T19:46:12Z</td>\n",
       "      <td>2020-06-30T15:56:43Z</td>\n",
       "      <td>animeshsingh04</td>\n",
       "      <td>1</td>\n",
       "      <td>https://api.github.com/repos/animeshsingh04/an...</td>\n",
       "      <td>https://api.github.com/repos/animeshsingh04/an...</td>\n",
       "      <td>https://api.github.com/repos/animeshsingh04/an...</td>\n",
       "    </tr>\n",
       "  </tbody>\n",
       "</table>\n",
       "</div>"
      ],
      "text/plain": [
       "          Id                                       Name  \\\n",
       "0  234071231                                    Angular   \n",
       "1  239988172     AngularProject-to-showApilog-from-file   \n",
       "2  233563609  AngularProject-to-showApilog-from-logfile   \n",
       "3  233396617                       Animation-using-css3   \n",
       "4  233679163                   animeshsingh04.github.io   \n",
       "\n",
       "                                         Description            Created on  \\\n",
       "0                                               None  2020-01-15T12:01:40Z   \n",
       "1                                               None  2020-02-12T10:43:17Z   \n",
       "2  This Repo showcase API log using Angular 6 fro...  2020-01-13T09:55:31Z   \n",
       "3          Simple animation using pure css3 and html  2020-01-12T13:26:55Z   \n",
       "4                                               None  2020-01-13T19:46:12Z   \n",
       "\n",
       "             Updated on           Owner  Watchers count  \\\n",
       "0  2020-06-30T15:56:42Z  animeshsingh04               1   \n",
       "1  2020-06-30T15:56:39Z  animeshsingh04               1   \n",
       "2  2020-06-30T15:56:26Z  animeshsingh04               1   \n",
       "3  2020-06-30T15:56:45Z  animeshsingh04               1   \n",
       "4  2020-06-30T15:56:43Z  animeshsingh04               1   \n",
       "\n",
       "                                                 Url  \\\n",
       "0  https://api.github.com/repos/animeshsingh04/An...   \n",
       "1  https://api.github.com/repos/animeshsingh04/An...   \n",
       "2  https://api.github.com/repos/animeshsingh04/An...   \n",
       "3  https://api.github.com/repos/animeshsingh04/An...   \n",
       "4  https://api.github.com/repos/animeshsingh04/an...   \n",
       "\n",
       "                                         Commits url  \\\n",
       "0  https://api.github.com/repos/animeshsingh04/An...   \n",
       "1  https://api.github.com/repos/animeshsingh04/An...   \n",
       "2  https://api.github.com/repos/animeshsingh04/An...   \n",
       "3  https://api.github.com/repos/animeshsingh04/An...   \n",
       "4  https://api.github.com/repos/animeshsingh04/an...   \n",
       "\n",
       "                                       Languages url  \n",
       "0  https://api.github.com/repos/animeshsingh04/An...  \n",
       "1  https://api.github.com/repos/animeshsingh04/An...  \n",
       "2  https://api.github.com/repos/animeshsingh04/An...  \n",
       "3  https://api.github.com/repos/animeshsingh04/An...  \n",
       "4  https://api.github.com/repos/animeshsingh04/an...  "
      ]
     },
     "execution_count": 37,
     "metadata": {},
     "output_type": "execute_result"
    }
   ],
   "source": [
    "repository_info_df = pd.DataFrame(repos_information,columns=repo_df_column)\n",
    "repository_info_df.head(5)"
   ]
  },
  {
   "cell_type": "markdown",
   "metadata": {},
   "source": [
    "# Languages used in each Repository"
   ]
  },
  {
   "cell_type": "markdown",
   "metadata": {},
   "source": [
    "I will use language_url for each repository to iterate and get the languages used in each repository and save bak in datafame (repso_df)"
   ]
  },
  {
   "cell_type": "code",
   "execution_count": 38,
   "metadata": {},
   "outputs": [
    {
     "name": "stdout",
     "output_type": "stream",
     "text": [
      "{'JavaScript': 9510143, 'HTML': 1360}\n",
      "{'JavaScript': 9510143, 'HTML': 1391}\n",
      "{'TypeScript': 9822, 'HTML': 2219, 'JavaScript': 1834, 'CSS': 283}\n",
      "{'CSS': 3569, 'HTML': 2981, 'JavaScript': 965}\n",
      "{'CSS': 3764, 'HTML': 3072, 'JavaScript': 988}\n",
      "{'Jupyter Notebook': 357157, 'Python': 9388}\n",
      "{'JavaScript': 6203, 'CSS': 3351, 'HTML': 2270}\n",
      "{'Jupyter Notebook': 224490}\n",
      "{'JavaScript': 12625, 'HTML': 6185, 'CSS': 1778}\n",
      "{'Jupyter Notebook': 246501}\n",
      "{'HTML': 1470}\n",
      "{'Jupyter Notebook': 572859}\n",
      "{'CSS': 20698, 'HTML': 20646, 'JavaScript': 704}\n",
      "{'Java': 6170, 'HTML': 3532, 'Scala': 1268, 'JavaScript': 1227, 'CSS': 701}\n",
      "{'Jupyter Notebook': 169087}\n"
     ]
    }
   ],
   "source": [
    "for i in range(len(repository_info_df)):\n",
    "    language_url = repository_info_df.loc[i,'Languages url']\n",
    "    language_response = requests.get(language_url, headers=headers)\n",
    "    language_response =  language_response.json()\n",
    "    print(language_response)\n",
    "    if language_response != {}:\n",
    "        language=[]\n",
    "        for key,value in language_response.items():\n",
    "            language.append(key)\n",
    "        language = ', '.join(language)\n",
    "        repository_info_df.loc[i,'Language'] = language\n",
    "    else:\n",
    "        repository_info_df.loc[i,'Language'] = \"\""
   ]
  },
  {
   "cell_type": "markdown",
   "metadata": {},
   "source": [
    "I will save all data we caputred in dataframe to .csv file called <strong>repso_info.csv</strong>"
   ]
  },
  {
   "cell_type": "code",
   "execution_count": 40,
   "metadata": {},
   "outputs": [],
   "source": [
    "repository_info_df.to_csv('repository_info.csv', index = False)"
   ]
  },
  {
   "cell_type": "markdown",
   "metadata": {},
   "source": [
    "# Commit Data of Each Repository"
   ]
  },
  {
   "cell_type": "markdown",
   "metadata": {},
   "source": [
    "Now we will try to get the commit data for each Repository using <strong>commit_url</strong> which we saved earlier in <strong>repos_df</strong>"
   ]
  },
  {
   "cell_type": "markdown",
   "metadata": {},
   "source": [
    "I will save the Id(i.e nothing but the Repository Id for refrence to create relation between repos_df), Commit Id(sha is nothing but commit Id), Commit Message and Commit Date"
   ]
  },
  {
   "cell_type": "code",
   "execution_count": 12,
   "metadata": {},
   "outputs": [],
   "source": [
    "commit_information= []\n",
    "for index, row in repository_info_df.iterrows():\n",
    "    commit_url = row['Commits url']\n",
    "    commit_response = requests.get(commit_url,headers=headers)\n",
    "    commit_response = commit_response.json()\n",
    "    for commit in commit_response:\n",
    "        commit_data = []\n",
    "        commit_data.append(repository_info_df.loc[index,\"Id\"])\n",
    "        commit_data.append(commit['sha'])\n",
    "        commit_data.append(commit['commit']['message'])\n",
    "        commit_data.append(commit['commit']['author']['date'])\n",
    "        commit_information.append(commit_data)\n"
   ]
  },
  {
   "cell_type": "code",
   "execution_count": 22,
   "metadata": {},
   "outputs": [],
   "source": [
    "commit_df_column = ['Id','Commit Id','Commit Message','Commited on']\n",
    "commit_df = pd.DataFrame(commit_information,columns=commit_df_column)"
   ]
  },
  {
   "cell_type": "markdown",
   "metadata": {},
   "source": [
    "I will save the coomit dataframe to <strong>commit_info.csv</strong>"
   ]
  },
  {
   "cell_type": "code",
   "execution_count": 23,
   "metadata": {},
   "outputs": [],
   "source": [
    "commit_df.to_csv('commit_info.csv',index = False)"
   ]
  },
  {
   "cell_type": "code",
   "execution_count": 25,
   "metadata": {},
   "outputs": [
    {
     "data": {
      "text/html": [
       "<div>\n",
       "<style scoped>\n",
       "    .dataframe tbody tr th:only-of-type {\n",
       "        vertical-align: middle;\n",
       "    }\n",
       "\n",
       "    .dataframe tbody tr th {\n",
       "        vertical-align: top;\n",
       "    }\n",
       "\n",
       "    .dataframe thead th {\n",
       "        text-align: right;\n",
       "    }\n",
       "</style>\n",
       "<table border=\"1\" class=\"dataframe\">\n",
       "  <thead>\n",
       "    <tr style=\"text-align: right;\">\n",
       "      <th></th>\n",
       "      <th>Id</th>\n",
       "      <th>Commit Id</th>\n",
       "      <th>Commit Message</th>\n",
       "      <th>Commited on</th>\n",
       "    </tr>\n",
       "  </thead>\n",
       "  <tbody>\n",
       "    <tr>\n",
       "      <th>0</th>\n",
       "      <td>234071231</td>\n",
       "      <td>834843d5307f829103a185e29ea9df0de279bda2</td>\n",
       "      <td>Updated the Index.html</td>\n",
       "      <td>2020-01-15T12:13:41Z</td>\n",
       "    </tr>\n",
       "    <tr>\n",
       "      <th>1</th>\n",
       "      <td>234071231</td>\n",
       "      <td>b69b1517f299958fc24a3a897890197d7eb74dd5</td>\n",
       "      <td>READMe.md file commited</td>\n",
       "      <td>2020-01-15T12:04:52Z</td>\n",
       "    </tr>\n",
       "    <tr>\n",
       "      <th>2</th>\n",
       "      <td>234071231</td>\n",
       "      <td>9072be80ea4de086796e72291627b21024e21e13</td>\n",
       "      <td>Initial Commit</td>\n",
       "      <td>2020-01-15T12:03:13Z</td>\n",
       "    </tr>\n",
       "    <tr>\n",
       "      <th>3</th>\n",
       "      <td>239988172</td>\n",
       "      <td>89fe55999449365d4d026c00ce7bfcf587ed59bc</td>\n",
       "      <td>updated the index.html</td>\n",
       "      <td>2020-02-12T11:20:24Z</td>\n",
       "    </tr>\n",
       "    <tr>\n",
       "      <th>4</th>\n",
       "      <td>239988172</td>\n",
       "      <td>3411437305d486593b14a01693fe92bec2b61208</td>\n",
       "      <td>Merge branch 'master' of https://github.com/an...</td>\n",
       "      <td>2020-02-12T10:52:02Z</td>\n",
       "    </tr>\n",
       "  </tbody>\n",
       "</table>\n",
       "</div>"
      ],
      "text/plain": [
       "          Id                                 Commit Id  \\\n",
       "0  234071231  834843d5307f829103a185e29ea9df0de279bda2   \n",
       "1  234071231  b69b1517f299958fc24a3a897890197d7eb74dd5   \n",
       "2  234071231  9072be80ea4de086796e72291627b21024e21e13   \n",
       "3  239988172  89fe55999449365d4d026c00ce7bfcf587ed59bc   \n",
       "4  239988172  3411437305d486593b14a01693fe92bec2b61208   \n",
       "\n",
       "                                      Commit Message           Commited on  \n",
       "0                             Updated the Index.html  2020-01-15T12:13:41Z  \n",
       "1                            READMe.md file commited  2020-01-15T12:04:52Z  \n",
       "2                                     Initial Commit  2020-01-15T12:03:13Z  \n",
       "3                             updated the index.html  2020-02-12T11:20:24Z  \n",
       "4  Merge branch 'master' of https://github.com/an...  2020-02-12T10:52:02Z  "
      ]
     },
     "execution_count": 25,
     "metadata": {},
     "output_type": "execute_result"
    }
   ],
   "source": [
    "commit_df.head(5)"
   ]
  },
  {
   "cell_type": "code",
   "execution_count": null,
   "metadata": {},
   "outputs": [],
   "source": [
    "_i"
   ]
  }
 ],
 "metadata": {
  "kernelspec": {
   "display_name": "Python 3",
   "language": "python",
   "name": "python3"
  },
  "language_info": {
   "codemirror_mode": {
    "name": "ipython",
    "version": 3
   },
   "file_extension": ".py",
   "mimetype": "text/x-python",
   "name": "python",
   "nbconvert_exporter": "python",
   "pygments_lexer": "ipython3",
   "version": "3.6.4"
  }
 },
 "nbformat": 4,
 "nbformat_minor": 2
}
